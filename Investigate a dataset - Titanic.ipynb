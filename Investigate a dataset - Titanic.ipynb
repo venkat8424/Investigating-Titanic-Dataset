{
 "cells": [
  {
   "cell_type": "markdown",
   "metadata": {},
   "source": [
    "# Investing a dataset\n",
    "\n",
    "This project investigates the 'Titanic' dataset to find out what factors affected the survival of a passenger. I have come up with the following questions upon looking at the dataset.\n",
    "\n",
    "Question 1: Did the Passenger Class (Pclass) have an impact on the survival of a passenger i.e did the passengers of first class have better chance of survival than the passengers of other lower classes?\n",
    "\n",
    "Question 2: Did the age of a passenger affect the survival of the passenger?\n",
    "\n",
    "Question 3: Did the gender of a passenger impact the chance of his/her survival?\n",
    "\n",
    "The following analysis and exploration is made to answer the above questions."
   ]
  },
  {
   "cell_type": "code",
   "execution_count": 65,
   "metadata": {
    "collapsed": true
   },
   "outputs": [],
   "source": [
    "#importing necessary packages and modules\n",
    "import numpy as np\n",
    "import pandas as pd\n",
    "import seaborn as sns\n",
    "import matplotlib.pyplot as plt\n",
    "%matplotlib inline\n",
    "from __future__ import division"
   ]
  },
  {
   "cell_type": "code",
   "execution_count": 66,
   "metadata": {
    "collapsed": false
   },
   "outputs": [
    {
     "data": {
      "text/html": [
       "<div>\n",
       "<table border=\"1\" class=\"dataframe\">\n",
       "  <thead>\n",
       "    <tr style=\"text-align: right;\">\n",
       "      <th></th>\n",
       "      <th>PassengerId</th>\n",
       "      <th>Survived</th>\n",
       "      <th>Pclass</th>\n",
       "      <th>Name</th>\n",
       "      <th>Sex</th>\n",
       "      <th>Age</th>\n",
       "      <th>SibSp</th>\n",
       "      <th>Parch</th>\n",
       "      <th>Ticket</th>\n",
       "      <th>Fare</th>\n",
       "      <th>Cabin</th>\n",
       "      <th>Embarked</th>\n",
       "    </tr>\n",
       "  </thead>\n",
       "  <tbody>\n",
       "    <tr>\n",
       "      <th>0</th>\n",
       "      <td>1</td>\n",
       "      <td>0</td>\n",
       "      <td>3</td>\n",
       "      <td>Braund, Mr. Owen Harris</td>\n",
       "      <td>male</td>\n",
       "      <td>22.0</td>\n",
       "      <td>1</td>\n",
       "      <td>0</td>\n",
       "      <td>A/5 21171</td>\n",
       "      <td>7.2500</td>\n",
       "      <td>NaN</td>\n",
       "      <td>S</td>\n",
       "    </tr>\n",
       "    <tr>\n",
       "      <th>1</th>\n",
       "      <td>2</td>\n",
       "      <td>1</td>\n",
       "      <td>1</td>\n",
       "      <td>Cumings, Mrs. John Bradley (Florence Briggs Th...</td>\n",
       "      <td>female</td>\n",
       "      <td>38.0</td>\n",
       "      <td>1</td>\n",
       "      <td>0</td>\n",
       "      <td>PC 17599</td>\n",
       "      <td>71.2833</td>\n",
       "      <td>C85</td>\n",
       "      <td>C</td>\n",
       "    </tr>\n",
       "    <tr>\n",
       "      <th>2</th>\n",
       "      <td>3</td>\n",
       "      <td>1</td>\n",
       "      <td>3</td>\n",
       "      <td>Heikkinen, Miss. Laina</td>\n",
       "      <td>female</td>\n",
       "      <td>26.0</td>\n",
       "      <td>0</td>\n",
       "      <td>0</td>\n",
       "      <td>STON/O2. 3101282</td>\n",
       "      <td>7.9250</td>\n",
       "      <td>NaN</td>\n",
       "      <td>S</td>\n",
       "    </tr>\n",
       "    <tr>\n",
       "      <th>3</th>\n",
       "      <td>4</td>\n",
       "      <td>1</td>\n",
       "      <td>1</td>\n",
       "      <td>Futrelle, Mrs. Jacques Heath (Lily May Peel)</td>\n",
       "      <td>female</td>\n",
       "      <td>35.0</td>\n",
       "      <td>1</td>\n",
       "      <td>0</td>\n",
       "      <td>113803</td>\n",
       "      <td>53.1000</td>\n",
       "      <td>C123</td>\n",
       "      <td>S</td>\n",
       "    </tr>\n",
       "    <tr>\n",
       "      <th>4</th>\n",
       "      <td>5</td>\n",
       "      <td>0</td>\n",
       "      <td>3</td>\n",
       "      <td>Allen, Mr. William Henry</td>\n",
       "      <td>male</td>\n",
       "      <td>35.0</td>\n",
       "      <td>0</td>\n",
       "      <td>0</td>\n",
       "      <td>373450</td>\n",
       "      <td>8.0500</td>\n",
       "      <td>NaN</td>\n",
       "      <td>S</td>\n",
       "    </tr>\n",
       "  </tbody>\n",
       "</table>\n",
       "</div>"
      ],
      "text/plain": [
       "   PassengerId  Survived  Pclass  \\\n",
       "0            1         0       3   \n",
       "1            2         1       1   \n",
       "2            3         1       3   \n",
       "3            4         1       1   \n",
       "4            5         0       3   \n",
       "\n",
       "                                                Name     Sex   Age  SibSp  \\\n",
       "0                            Braund, Mr. Owen Harris    male  22.0      1   \n",
       "1  Cumings, Mrs. John Bradley (Florence Briggs Th...  female  38.0      1   \n",
       "2                             Heikkinen, Miss. Laina  female  26.0      0   \n",
       "3       Futrelle, Mrs. Jacques Heath (Lily May Peel)  female  35.0      1   \n",
       "4                           Allen, Mr. William Henry    male  35.0      0   \n",
       "\n",
       "   Parch            Ticket     Fare Cabin Embarked  \n",
       "0      0         A/5 21171   7.2500   NaN        S  \n",
       "1      0          PC 17599  71.2833   C85        C  \n",
       "2      0  STON/O2. 3101282   7.9250   NaN        S  \n",
       "3      0            113803  53.1000  C123        S  \n",
       "4      0            373450   8.0500   NaN        S  "
      ]
     },
     "execution_count": 66,
     "metadata": {},
     "output_type": "execute_result"
    }
   ],
   "source": [
    "#loading the data into a pandas dataframe from the csv file\n",
    "titanic_df = pd.read_csv('titanic-data.csv')\n",
    "titanic_df.head()"
   ]
  },
  {
   "cell_type": "markdown",
   "metadata": {},
   "source": [
    "## Data Wrangling\n",
    "\n",
    "Looking at the dataset it can be noticed that the 'Cabin' column has many missing values. As the analysis doesn't require investigating the 'Cabin' attribute and also as it has many missing values, the 'Cabin' column can be removed from the dataframe to reduce some memory. \n",
    "\n",
    "The 'Age' column also has missing values but all the missing values are already 'NaN' in the dataframe and this will not cause any problem in the analysis because 'NaN' will be treated as 0 by pandas while performing aggregate operations."
   ]
  },
  {
   "cell_type": "code",
   "execution_count": 67,
   "metadata": {
    "collapsed": false
   },
   "outputs": [],
   "source": [
    "#dropping the column 'Cabin' from the dataframe\n",
    "titanic_df.drop(['Cabin'],axis = 1,inplace = True)"
   ]
  },
  {
   "cell_type": "code",
   "execution_count": 68,
   "metadata": {
    "collapsed": false
   },
   "outputs": [
    {
     "data": {
      "text/html": [
       "<div>\n",
       "<table border=\"1\" class=\"dataframe\">\n",
       "  <thead>\n",
       "    <tr style=\"text-align: right;\">\n",
       "      <th></th>\n",
       "      <th>PassengerId</th>\n",
       "      <th>Survived</th>\n",
       "      <th>Pclass</th>\n",
       "      <th>Name</th>\n",
       "      <th>Sex</th>\n",
       "      <th>Age</th>\n",
       "      <th>SibSp</th>\n",
       "      <th>Parch</th>\n",
       "      <th>Ticket</th>\n",
       "      <th>Fare</th>\n",
       "      <th>Embarked</th>\n",
       "    </tr>\n",
       "  </thead>\n",
       "  <tbody>\n",
       "    <tr>\n",
       "      <th>0</th>\n",
       "      <td>1</td>\n",
       "      <td>0</td>\n",
       "      <td>3</td>\n",
       "      <td>Braund, Mr. Owen Harris</td>\n",
       "      <td>male</td>\n",
       "      <td>22.0</td>\n",
       "      <td>1</td>\n",
       "      <td>0</td>\n",
       "      <td>A/5 21171</td>\n",
       "      <td>7.2500</td>\n",
       "      <td>S</td>\n",
       "    </tr>\n",
       "    <tr>\n",
       "      <th>1</th>\n",
       "      <td>2</td>\n",
       "      <td>1</td>\n",
       "      <td>1</td>\n",
       "      <td>Cumings, Mrs. John Bradley (Florence Briggs Th...</td>\n",
       "      <td>female</td>\n",
       "      <td>38.0</td>\n",
       "      <td>1</td>\n",
       "      <td>0</td>\n",
       "      <td>PC 17599</td>\n",
       "      <td>71.2833</td>\n",
       "      <td>C</td>\n",
       "    </tr>\n",
       "    <tr>\n",
       "      <th>2</th>\n",
       "      <td>3</td>\n",
       "      <td>1</td>\n",
       "      <td>3</td>\n",
       "      <td>Heikkinen, Miss. Laina</td>\n",
       "      <td>female</td>\n",
       "      <td>26.0</td>\n",
       "      <td>0</td>\n",
       "      <td>0</td>\n",
       "      <td>STON/O2. 3101282</td>\n",
       "      <td>7.9250</td>\n",
       "      <td>S</td>\n",
       "    </tr>\n",
       "    <tr>\n",
       "      <th>3</th>\n",
       "      <td>4</td>\n",
       "      <td>1</td>\n",
       "      <td>1</td>\n",
       "      <td>Futrelle, Mrs. Jacques Heath (Lily May Peel)</td>\n",
       "      <td>female</td>\n",
       "      <td>35.0</td>\n",
       "      <td>1</td>\n",
       "      <td>0</td>\n",
       "      <td>113803</td>\n",
       "      <td>53.1000</td>\n",
       "      <td>S</td>\n",
       "    </tr>\n",
       "    <tr>\n",
       "      <th>4</th>\n",
       "      <td>5</td>\n",
       "      <td>0</td>\n",
       "      <td>3</td>\n",
       "      <td>Allen, Mr. William Henry</td>\n",
       "      <td>male</td>\n",
       "      <td>35.0</td>\n",
       "      <td>0</td>\n",
       "      <td>0</td>\n",
       "      <td>373450</td>\n",
       "      <td>8.0500</td>\n",
       "      <td>S</td>\n",
       "    </tr>\n",
       "  </tbody>\n",
       "</table>\n",
       "</div>"
      ],
      "text/plain": [
       "   PassengerId  Survived  Pclass  \\\n",
       "0            1         0       3   \n",
       "1            2         1       1   \n",
       "2            3         1       3   \n",
       "3            4         1       1   \n",
       "4            5         0       3   \n",
       "\n",
       "                                                Name     Sex   Age  SibSp  \\\n",
       "0                            Braund, Mr. Owen Harris    male  22.0      1   \n",
       "1  Cumings, Mrs. John Bradley (Florence Briggs Th...  female  38.0      1   \n",
       "2                             Heikkinen, Miss. Laina  female  26.0      0   \n",
       "3       Futrelle, Mrs. Jacques Heath (Lily May Peel)  female  35.0      1   \n",
       "4                           Allen, Mr. William Henry    male  35.0      0   \n",
       "\n",
       "   Parch            Ticket     Fare Embarked  \n",
       "0      0         A/5 21171   7.2500        S  \n",
       "1      0          PC 17599  71.2833        C  \n",
       "2      0  STON/O2. 3101282   7.9250        S  \n",
       "3      0            113803  53.1000        S  \n",
       "4      0            373450   8.0500        S  "
      ]
     },
     "execution_count": 68,
     "metadata": {},
     "output_type": "execute_result"
    }
   ],
   "source": [
    "titanic_df.head()"
   ]
  },
  {
   "cell_type": "markdown",
   "metadata": {},
   "source": [
    "To find out the number of passengers who survived and the passengers who did not survive, the data is grouped into two groups on the 'Survived' attribute. The count of each group gives the number of people in the respective group."
   ]
  },
  {
   "cell_type": "code",
   "execution_count": 69,
   "metadata": {
    "collapsed": false
   },
   "outputs": [
    {
     "name": "stdout",
     "output_type": "stream",
     "text": [
      "Total number of passengers : 891\n",
      "Number of passengers who survived : 342\n",
      "Number of passengers who did not survive : 549\n"
     ]
    }
   ],
   "source": [
    "#grouping the data into two groups on the 'Survived' attribute and determining the number of people in each group\n",
    "groupedby_Survived = titanic_df.groupby('Survived',as_index = False)\n",
    "survival_count = groupedby_Survived.count()\n",
    "print(\"Total number of passengers : \"+str(titanic_df.shape[0]))\n",
    "print(\"Number of passengers who survived : \"+str(survival_count.loc[1,'PassengerId']))\n",
    "print(\"Number of passengers who did not survive : \"+str(survival_count.loc[0,'PassengerId']))"
   ]
  },
  {
   "cell_type": "code",
   "execution_count": 70,
   "metadata": {
    "collapsed": false
   },
   "outputs": [
    {
     "data": {
      "image/png": "[encoded data removed]",
      "text/plain": [
       "<matplotlib.figure.Figure at 0x10e3f1c90>"
      ]
     },
     "metadata": {},
     "output_type": "display_data"
    }
   ],
   "source": [
    "percentage_survived = (survival_count.loc[1,'PassengerId']/titanic_df.shape[0])*100\n",
    "percentage_not_survived = (survival_count.loc[0,'PassengerId']/titanic_df.shape[0])*100\n",
    "sizes = [percentage_survived,percentage_not_survived]\n",
    "labels = ['Survived','Not survived']\n",
    "plt.pie(sizes, labels=labels, autopct='%1.1f%%', startangle=90)\n",
    "x = plt.title(\"Percentage of passengers who survived and who did not survive\")"
   ]
  },
  {
   "cell_type": "markdown",
   "metadata": {},
   "source": [
    "The above pie chart shows that out of all the passengers aboard the Titanic, only 38.4% of the passengers survived and the reamaining 61.6% of the passenngers did not survive."
   ]
  },
  {
   "cell_type": "markdown",
   "metadata": {},
   "source": [
    "## Analyzing the effect of passenger class on the chance of survival\n",
    "\n",
    "To determine if the passenger class had an effect on the survival of a passenger, grouping the data on the 'Pclass' attribute and then investing the statistics of each group could provide an explanation. As there are three passenger classes, grouping the data on 'Pclass' attribute divides the entire data into three groups. Each group contains information about passengers who boarded that passenger class."
   ]
  },
  {
   "cell_type": "code",
   "execution_count": 71,
   "metadata": {
    "collapsed": false
   },
   "outputs": [],
   "source": [
    "#grouping the data on the 'Pclass' attribute\n",
    "groupedby_Pclass = titanic_df.groupby('Pclass',as_index = False)"
   ]
  },
  {
   "cell_type": "code",
   "execution_count": 72,
   "metadata": {
    "collapsed": true
   },
   "outputs": [],
   "source": [
    "def count_people(column):\n",
    "    \"\"\"\n",
    "    This function takes in a series and returns the counts of total people,\n",
    "    the number of people who survived and the number of people who did\n",
    "    not survive\n",
    "    \"\"\"\n",
    "    total = column.shape[0]\n",
    "    survived = 0\n",
    "    not_survived = 0\n",
    "    for x in column:\n",
    "        if x == 1:\n",
    "            survived += 1\n",
    "        else:\n",
    "            not_survived += 1\n",
    "    return total,survived,not_survived"
   ]
  },
  {
   "cell_type": "code",
   "execution_count": 73,
   "metadata": {
    "collapsed": true
   },
   "outputs": [],
   "source": [
    "#a list to store the percentage of survived people in each passenger class\n",
    "survival_percentage = [0]*3"
   ]
  },
  {
   "cell_type": "code",
   "execution_count": 74,
   "metadata": {
    "collapsed": true
   },
   "outputs": [],
   "source": [
    "def display_stats():\n",
    "    \"\"\"\n",
    "    This function uses the count_people function to determine the \n",
    "    statistics of each group (Pclass)\n",
    "    \"\"\"\n",
    "    stats = groupedby_Pclass['Survived'].apply(count_people)\n",
    "    for i in range(3):\n",
    "        print(\"Passengers of class \"+str(i+1))\n",
    "        print(\"Number of people who boarded : \" +str(stats[i][0]))\n",
    "        print(\"Number of people who survived : \" +str(stats[i][1]))\n",
    "        print(\"Number of people who did not survive : \" +str(stats[i][2]))\n",
    "        survival_percentage[i] = (stats[i][1]/stats[i][0])*100\n",
    "        print(\"Percentage of people who survived : \"+str(survival_percentage[i]))\n",
    "        print"
   ]
  },
  {
   "cell_type": "code",
   "execution_count": 75,
   "metadata": {
    "collapsed": false
   },
   "outputs": [
    {
     "name": "stdout",
     "output_type": "stream",
     "text": [
      "Passengers of class 1\n",
      "Number of people who boarded : 216\n",
      "Number of people who survived : 136\n",
      "Number of people who did not survive : 80\n",
      "Percentage of people who survived : 62.962962963\n",
      "\n",
      "Passengers of class 2\n",
      "Number of people who boarded : 184\n",
      "Number of people who survived : 87\n",
      "Number of people who did not survive : 97\n",
      "Percentage of people who survived : 47.2826086957\n",
      "\n",
      "Passengers of class 3\n",
      "Number of people who boarded : 491\n",
      "Number of people who survived : 119\n",
      "Number of people who did not survive : 372\n",
      "Percentage of people who survived : 24.2362525458\n",
      "\n"
     ]
    }
   ],
   "source": [
    "display_stats()"
   ]
  },
  {
   "cell_type": "markdown",
   "metadata": {},
   "source": [
    "The above statistics show that among the three passenger classes, the passengers belonging to the higher class had better chance of survival than the passengers of the lower classes. This could be because of several reasons. It could have happened because maybe the first class passengers had access to more exit points than the lower class passengers or maybe the first class passengers were evacuated before the other class' passengers."
   ]
  },
  {
   "cell_type": "code",
   "execution_count": 76,
   "metadata": {
    "collapsed": false
   },
   "outputs": [],
   "source": [
    "def display_barPlot():\n",
    "    \"\"\"\n",
    "    This function displays a bar plot where the bars represent the survival percentage\n",
    "    of each class\n",
    "    \"\"\"\n",
    "    bar_width = 0.5\n",
    "    for i in range(3):\n",
    "        class_bar = plt.bar(i-bar_width/2,survival_percentage[i],width = bar_width)\n",
    "    locs = (0.0,1.0,2.0)\n",
    "    plt.xticks(locs,(1,2,3))\n",
    "    plt.xlabel(\"Passenger class\")\n",
    "    plt.ylabel(\"Survival percentage\")\n",
    "    plt.title(\"Survival percentage of each class\")"
   ]
  },
  {
   "cell_type": "code",
   "execution_count": 77,
   "metadata": {
    "collapsed": false
   },
   "outputs": [
    {
     "data": {
      "image/png": "[encoded data removed]",
      "text/plain": [
       "<matplotlib.figure.Figure at 0x110d4f5d0>"
      ]
     },
     "metadata": {},
     "output_type": "display_data"
    }
   ],
   "source": [
    "#displaying the bar plot\n",
    "display_barPlot()"
   ]
  },
  {
   "cell_type": "markdown",
   "metadata": {},
   "source": [
    "The above bar plot shows that about 62% of the passengers from first class survived, 48% of the passengers from second class survived and only 24% of the passengers from third class survived. This bar plot visualizes the fact that the passengers of higher class had better chance of survival than the passengers of lower classes."
   ]
  },
  {
   "cell_type": "markdown",
   "metadata": {},
   "source": [
    "## Analyzing the effect of age on the chance of survival\n",
    "\n",
    "The following analysis is made to determine if the age of a passenger played any role in the passenger's survival. The data is already grouped into two groups based on the 'Survived' attribute. One group contains information about all the passengers who survived and the other group contains information about the passengers who did not survive. Investigating the ages of people of a particular group could provide insights into how age affected the survival of a passenger."
   ]
  },
  {
   "cell_type": "code",
   "execution_count": 78,
   "metadata": {
    "collapsed": true
   },
   "outputs": [],
   "source": [
    "def compute_age_stats(age):\n",
    "    \"\"\"\n",
    "    This function takes in the ages of passengers belonging to a particular group\n",
    "    and computes the minimum age, maximum age and average age of the passengers\n",
    "    of that group\n",
    "    \"\"\"\n",
    "    min_age = age.min()\n",
    "    max_age = age.max()\n",
    "    mean_age = age.mean()\n",
    "    std_age = age.std(ddof = 0)\n",
    "    return min_age,max_age,mean_age,std_age"
   ]
  },
  {
   "cell_type": "code",
   "execution_count": 79,
   "metadata": {
    "collapsed": false
   },
   "outputs": [],
   "source": [
    "def display_age_stats():\n",
    "    \"\"\"\n",
    "    This function uses the compute_age_stats function to display the\n",
    "    age statistics of all the groups.\n",
    "    \"\"\"\n",
    "    age_stats = groupedby_Survived['Age'].apply(compute_age_stats)\n",
    "    print(\"The people who survived\")\n",
    "    print(\"The minimum age is \"+str(age_stats[1][0]))\n",
    "    print(\"The maximum age is \"+str(age_stats[1][1]))\n",
    "    print(\"The average age is \"+str(age_stats[1][2]))\n",
    "    print\n",
    "    print(\"The people who did not survive\")\n",
    "    print(\"The minimum age is \"+str(age_stats[0][0]))\n",
    "    print(\"The maximum age is \"+str(age_stats[0][1]))\n",
    "    print(\"The average age is \"+str(age_stats[0][2]))"
   ]
  },
  {
   "cell_type": "code",
   "execution_count": 80,
   "metadata": {
    "collapsed": false
   },
   "outputs": [
    {
     "name": "stdout",
     "output_type": "stream",
     "text": [
      "The people who survived\n",
      "The minimum age is 0.42\n",
      "The maximum age is 80.0\n",
      "The average age is 28.3436896552\n",
      "\n",
      "The people who did not survive\n",
      "The minimum age is 1.0\n",
      "The maximum age is 74.0\n",
      "The average age is 30.6261792453\n"
     ]
    }
   ],
   "source": [
    "display_age_stats()"
   ]
  },
  {
   "cell_type": "markdown",
   "metadata": {},
   "source": [
    "From the above statistics it can be seen that the average age of the passengers who survived and the average age of the passengers who did not survive are close to each other. This could be because most of the passengers aboard the Titanic were aged between 20 and 40. This could indicate that age did not play a crucial role in the survival of a passenger."
   ]
  },
  {
   "cell_type": "code",
   "execution_count": 81,
   "metadata": {
    "collapsed": false
   },
   "outputs": [
    {
     "data": {
      "image/png": "[encoded data removed]",
      "text/plain": [
       "<matplotlib.figure.Figure at 0x10df18d10>"
      ]
     },
     "metadata": {},
     "output_type": "display_data"
    }
   ],
   "source": [
    "#displaying the histogram of ages of all the passengers aboard the Titanic\n",
    "titanic_df['Age'].hist()\n",
    "plt.xlabel(\"Age\")\n",
    "plt.ylabel(\"Number of people\")\n",
    "x = plt.title(\"All the people who boarded\")"
   ]
  },
  {
   "cell_type": "markdown",
   "metadata": {},
   "source": [
    "From the above histogram it can be seen that most of the passengers were between the ages 20 and 40. The minimum age of the passengers was less than one year and the maximum age of the passengers was 80. There were around 470 passengers whose age was between 20 and 40 and there were only about 75 passengers whose age was more than 50."
   ]
  },
  {
   "cell_type": "code",
   "execution_count": 82,
   "metadata": {
    "collapsed": true
   },
   "outputs": [],
   "source": [
    "#extracting the two groups of passengers from the grouped data\n",
    "survived_group = groupedby_Survived.get_group(1)\n",
    "not_survived_group = groupedby_Survived.get_group(0)"
   ]
  },
  {
   "cell_type": "code",
   "execution_count": 83,
   "metadata": {
    "collapsed": true
   },
   "outputs": [],
   "source": [
    "def display_hist(age,group):\n",
    "    \"\"\"\n",
    "    This function displays a histogram for the ages of passengers\n",
    "    belonging to a particular group.\n",
    "    \"\"\"\n",
    "    age.hist()\n",
    "    plt.xlabel(\"Age\")\n",
    "    plt.ylabel(\"Number of people\")\n",
    "    plt.title(group)"
   ]
  },
  {
   "cell_type": "code",
   "execution_count": 84,
   "metadata": {
    "collapsed": false
   },
   "outputs": [
    {
     "data": {
      "image/png": "[encoded data removed]",
      "text/plain": [
       "<matplotlib.figure.Figure at 0x10dd17490>"
      ]
     },
     "metadata": {},
     "output_type": "display_data"
    }
   ],
   "source": [
    "display_hist(survived_group['Age'],\"Survived group\")"
   ]
  },
  {
   "cell_type": "markdown",
   "metadata": {},
   "source": [
    "The above histogram shows the ages of the people who survived. It can be seen that among the people that survived most of the people were between the ages 20 and 40. The minimum age of the passengers that survived was less than 1 and the maximum age of the passengers was 80. The total number of passengers that were below the age 10 were around 55 and about 35 of those passengers survived."
   ]
  },
  {
   "cell_type": "code",
   "execution_count": 85,
   "metadata": {
    "collapsed": false
   },
   "outputs": [
    {
     "data": {
      "image/png": "[encoded data removed]",
      "text/plain": [
       "<matplotlib.figure.Figure at 0x111425990>"
      ]
     },
     "metadata": {},
     "output_type": "display_data"
    }
   ],
   "source": [
    "display_hist(not_survived_group['Age'],\"Not Survived group\")"
   ]
  },
  {
   "cell_type": "markdown",
   "metadata": {},
   "source": [
    "The above histogram shows the ages of people who did not survive. This histogram also reveals that among all the passengers that did not survive most of them were between the ages 20 and 40. This is because of the fact that among all the passengers that were aboard the Titanic most of them were between the ages 20 and 40. The minimum age of the passengers that did not survive was 1 and the maximum age of the passengers that did not survive was 74.\n",
    "\n",
    "Even though both the histograms look similar it can be seen that more passengers between the ages 0 and 10 belonged to the group that survived i.e children had better chance of survival. This could have happened because maybe children were evacuated first."
   ]
  },
  {
   "cell_type": "markdown",
   "metadata": {},
   "source": [
    "## Analyzing the effect of gender on survival\n",
    "\n",
    "To determine if the gender of a passenger affected the passenger's survival, dividing the data into two groups according to the gender and then analyzing each group could help draw some conclusions. One group contains information about all the male passengers and the other group contains information about all the female passengers. Analyzing each group will help in determing the effect of gender on survival."
   ]
  },
  {
   "cell_type": "code",
   "execution_count": 86,
   "metadata": {
    "collapsed": false
   },
   "outputs": [],
   "source": [
    "#grouping the data according to the 'Sex' attribute\n",
    "groupedby_Sex = titanic_df.groupby('Sex',as_index = False)"
   ]
  },
  {
   "cell_type": "code",
   "execution_count": 87,
   "metadata": {
    "collapsed": true
   },
   "outputs": [],
   "source": [
    "def display_pie_chart():\n",
    "    labels = ['Male', 'Female']\n",
    "    sizes = [64.75, 35.25]\n",
    "    plt.pie(sizes, labels=labels, autopct='%1.1f%%', startangle=90)\n",
    "    plt.title(\"Distribution of males and females among the passengers\")"
   ]
  },
  {
   "cell_type": "code",
   "execution_count": 88,
   "metadata": {
    "collapsed": false
   },
   "outputs": [
    {
     "data": {
      "image/png": "[encoded data removed]",
      "text/plain": [
       "<matplotlib.figure.Figure at 0x1112569d0>"
      ]
     },
     "metadata": {},
     "output_type": "display_data"
    }
   ],
   "source": [
    "display_pie_chart()"
   ]
  },
  {
   "cell_type": "markdown",
   "metadata": {},
   "source": [
    "The above pie chart shows that among all the passengers that were aboard the Titanic, 64.7% of the passengers were male and 35.2% of the passengers were female."
   ]
  },
  {
   "cell_type": "code",
   "execution_count": 89,
   "metadata": {
    "collapsed": true
   },
   "outputs": [],
   "source": [
    "#a list that stores the percentage of people who survived from each group\n",
    "survival_percentage_sex = [0]*2"
   ]
  },
  {
   "cell_type": "code",
   "execution_count": 90,
   "metadata": {
    "collapsed": false
   },
   "outputs": [],
   "source": [
    "def display_sex_stats():\n",
    "    \"\"\"\n",
    "    This function displays the statistics about each group\n",
    "    \"\"\"\n",
    "    sex_stats = groupedby_Sex['Survived'].apply(count_people)\n",
    "    print(\"Male passengers\")\n",
    "    print(\"Number of males who boarded the ship : \"+str(sex_stats[1][0]))\n",
    "    print(\"Number of males who survived : \"+str(sex_stats[1][1]))\n",
    "    print(\"Number of males who did not survive : \"+str(sex_stats[1][2]))\n",
    "    survival_percentage_sex[0] = (sex_stats[1][1]/sex_stats[1][0])*100\n",
    "    print(\"Percentage of males that survived :\"+str(survival_percentage_sex[0]))\n",
    "    print\n",
    "    print(\"Female passengers\")\n",
    "    print(\"Number of females who boarded the ship : \"+str(sex_stats[0][0]))\n",
    "    print(\"Number of females who survived : \"+str(sex_stats[0][1]))\n",
    "    print(\"Number of females who did not survive : \"+str(sex_stats[0][2]))\n",
    "    survival_percentage_sex[1] = (sex_stats[0][1]/sex_stats[0][0])*100\n",
    "    print(\"Percentage of females that survived :\"+str(survival_percentage_sex[1]))"
   ]
  },
  {
   "cell_type": "code",
   "execution_count": 91,
   "metadata": {
    "collapsed": false
   },
   "outputs": [
    {
     "name": "stdout",
     "output_type": "stream",
     "text": [
      "Male passengers\n",
      "Number of males who boarded the ship : 577\n",
      "Number of males who survived : 109\n",
      "Number of males who did not survive : 468\n",
      "Percentage of males that survived :18.8908145581\n",
      "\n",
      "Female passengers\n",
      "Number of females who boarded the ship : 314\n",
      "Number of females who survived : 233\n",
      "Number of females who did not survive : 81\n",
      "Percentage of females that survived :74.2038216561\n"
     ]
    }
   ],
   "source": [
    "display_sex_stats()"
   ]
  },
  {
   "cell_type": "markdown",
   "metadata": {},
   "source": [
    "The statistics show that among all the passengers who were aboard the Titanic, 65% of the passengers were **male**. Even though the majority of the passengers were male, the number of males that survived is very less than the number of females that survived. It can be seen that 74% of the female passengers survived whereas only 18.9% of the male passengers survived. These statistics could indicate that females were given priority during evacuation."
   ]
  },
  {
   "cell_type": "code",
   "execution_count": 92,
   "metadata": {
    "collapsed": true
   },
   "outputs": [],
   "source": [
    "def display_sex_barPlot():\n",
    "    \"\"\"\n",
    "    This function displays a bar plot where each bar represents the gender\n",
    "    \"\"\"\n",
    "    bar_width = 0.5\n",
    "    for i in range(2):\n",
    "        gender_bar = plt.bar(i-bar_width/2,survival_percentage_sex[i],width = bar_width)\n",
    "    locs = (0.0,1.0)\n",
    "    plt.xticks(locs,(\"Male\",\"Female\"))\n",
    "    plt.xlabel(\"Sex\")\n",
    "    plt.ylabel(\"Survival percentage\")\n",
    "    plt.title(\"Survival percentage of men and women\")"
   ]
  },
  {
   "cell_type": "code",
   "execution_count": 93,
   "metadata": {
    "collapsed": false
   },
   "outputs": [
    {
     "data": {
      "image/png": "[encoded data removed]",
      "text/plain": [
       "<matplotlib.figure.Figure at 0x111921810>"
      ]
     },
     "metadata": {},
     "output_type": "display_data"
    }
   ],
   "source": [
    "display_sex_barPlot()"
   ]
  },
  {
   "cell_type": "markdown",
   "metadata": {},
   "source": [
    "From the above bar plot it can be inferred that very less percentage of the male passengers survived. Looking at the total passengers that were aboard the Titanic, it can be seen that majority of them were male. Even though there were more male passengers than the female passengers, only 19% of the male passengers survived which is very less when compared to the 74% of the female passengers that survived."
   ]
  },
  {
   "cell_type": "markdown",
   "metadata": {},
   "source": [
    "## Limitations\n",
    "\n",
    "The dataset provides information about only 891 passengers out of the total 2222 passengers and crew that were aboard the Titanic. All the analysis was made only based on the information of these 891 passengers which is less than 50% of the actual total passengers. The correlations inferred based on this analysis could be different for the other passengers that were not included in the dataset. If the dataset included the information about all the passengers that were aboard the Titanic the correlations inferred could be more precise and accurate.\n",
    "\n",
    "The information included in this dataset is only the information of the passengers. There were around 900 crew members on the Titanic and specific information about the crew members could help draw some interesting conclusions."
   ]
  },
  {
   "cell_type": "markdown",
   "metadata": {},
   "source": [
    "## Conclusion\n",
    "\n",
    "The above analysis and results indicate that the **Passenger Class** and the **Gender** of the passenger affected the survival of the passenger. **Age** had very little effect on the survival of a passenger.\n",
    "Passengers who were in first class had a better chance of survival than the passengers of lower classes and also the female passengers had better chance of survival than the male passengers. The age of the passenger did not have a considerable effect on the survival apart from the fact that children under the age 10 had a better chance of survival."
   ]
  },
  {
   "cell_type": "markdown",
   "metadata": {},
   "source": [
    "## References\n",
    "\n",
    "https://pandas.pydata.org/pandas-docs/stable/api.html\n",
    "\n",
    "http://matplotlib.org/1.2.1/api/pyplot_api.html"
   ]
  }
 ],
 "metadata": {
  "anaconda-cloud": {},
  "kernelspec": {
   "display_name": "Python [conda env:DAND]",
   "language": "python",
   "name": "conda-env-DAND-py"
  },
  "language_info": {
   "codemirror_mode": {
    "name": "ipython",
    "version": 2
   },
   "file_extension": ".py",
   "mimetype": "text/x-python",
   "name": "python",
   "nbconvert_exporter": "python",
   "pygments_lexer": "ipython2",
   "version": "2.7.12"
  }
 },
 "nbformat": 4,
 "nbformat_minor": 2
}
